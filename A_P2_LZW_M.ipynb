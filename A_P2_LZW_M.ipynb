{
 "cells": [
  {
   "cell_type": "code",
   "execution_count": null,
   "metadata": {},
   "outputs": [
    {
     "name": "stdout",
     "output_type": "stream",
     "text": [
      "test/kjv.txt\n",
      "test/kjv.txt.lzw2\n"
     ]
    }
   ],
   "source": [
    "# keep the function name\n",
    "def LZW_modified_compress(fname):\n",
    "    print(fname)\n",
    "    print(fname+\".lzw2\")\n",
    "    # your code here\n",
    "\n",
    "# keep this line\n",
    "LZW_modified_compress(filename)"
   ]
  },
  {
   "cell_type": "code",
   "execution_count": null,
   "metadata": {},
   "outputs": [],
   "source": [
    "# keep the function name\n",
    "def LZW_modified_expand(fname):\n",
    "    print(fname)\n",
    "    print(fname[:-5]+\".2M\")\n",
    "    # your code here\n",
    "\n",
    "# keep this line\n",
    "LZW_modified_expand(filename+\".lzw2\")"
   ]
  }
 ],
 "metadata": {
  "language_info": {
   "name": "python"
  }
 },
 "nbformat": 4,
 "nbformat_minor": 2
}
