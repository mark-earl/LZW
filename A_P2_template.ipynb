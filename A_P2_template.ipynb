{
 "cells": [
  {
   "cell_type": "code",
   "execution_count": 11,
   "id": "f7560448",
   "metadata": {},
   "outputs": [],
   "source": [
    "# Release filename\n",
    "filename = \"bible2.txt\"\n",
    "# Test filename, comment out for release\n",
    "filename = \"test.txt\""
   ]
  },
  {
   "cell_type": "code",
   "execution_count": 12,
   "id": "f3da3f06",
   "metadata": {},
   "outputs": [
    {
     "name": "stdout",
     "output_type": "stream",
     "text": [
      "Reading from: test.txt\n"
     ]
    },
    {
     "ename": "FileNotFoundError",
     "evalue": "[Errno 2] No such file or directory: 'test.txt'",
     "output_type": "error",
     "traceback": [
      "\u001b[1;31m---------------------------------------------------------------------------\u001b[0m",
      "\u001b[1;31mFileNotFoundError\u001b[0m                         Traceback (most recent call last)",
      "Cell \u001b[1;32mIn[12], line 52\u001b[0m\n\u001b[0;32m     49\u001b[0m     \u001b[38;5;28mprint\u001b[39m(\u001b[38;5;124mf\u001b[39m\u001b[38;5;124m\"\u001b[39m\u001b[38;5;124mFile compressed and saved as: \u001b[39m\u001b[38;5;132;01m{\u001b[39;00mcompressed_filename\u001b[38;5;132;01m}\u001b[39;00m\u001b[38;5;124m\"\u001b[39m)\n\u001b[0;32m     51\u001b[0m \u001b[38;5;66;03m# Call the function with the filename as argument.\u001b[39;00m\n\u001b[1;32m---> 52\u001b[0m \u001b[43mLZW_compress\u001b[49m\u001b[43m(\u001b[49m\u001b[43mfilename\u001b[49m\u001b[43m)\u001b[49m\n",
      "Cell \u001b[1;32mIn[12], line 6\u001b[0m, in \u001b[0;36mLZW_compress\u001b[1;34m(filename)\u001b[0m\n\u001b[0;32m      4\u001b[0m \u001b[38;5;66;03m# Open the file for reading.\u001b[39;00m\n\u001b[0;32m      5\u001b[0m \u001b[38;5;28mprint\u001b[39m(\u001b[38;5;124mf\u001b[39m\u001b[38;5;124m\"\u001b[39m\u001b[38;5;124mReading from: \u001b[39m\u001b[38;5;132;01m{\u001b[39;00mfilename\u001b[38;5;132;01m}\u001b[39;00m\u001b[38;5;124m\"\u001b[39m)\n\u001b[1;32m----> 6\u001b[0m \u001b[38;5;28;01mwith\u001b[39;00m \u001b[38;5;28;43mopen\u001b[39;49m\u001b[43m(\u001b[49m\u001b[43mfilename\u001b[49m\u001b[43m,\u001b[49m\u001b[43m \u001b[49m\u001b[38;5;124;43m'\u001b[39;49m\u001b[38;5;124;43mr\u001b[39;49m\u001b[38;5;124;43m'\u001b[39;49m\u001b[43m)\u001b[49m \u001b[38;5;28;01mas\u001b[39;00m file:\n\u001b[0;32m      7\u001b[0m     uncompressed_data \u001b[38;5;241m=\u001b[39m file\u001b[38;5;241m.\u001b[39mread()\n\u001b[0;32m      9\u001b[0m \u001b[38;5;66;03m# Initialize the dictionary with ASCII values for single characters.\u001b[39;00m\n",
      "File \u001b[1;32m~\\AppData\\Local\\Packages\\PythonSoftwareFoundation.Python.3.11_qbz5n2kfra8p0\\LocalCache\\local-packages\\Python311\\site-packages\\IPython\\core\\interactiveshell.py:310\u001b[0m, in \u001b[0;36m_modified_open\u001b[1;34m(file, *args, **kwargs)\u001b[0m\n\u001b[0;32m    303\u001b[0m \u001b[38;5;28;01mif\u001b[39;00m file \u001b[38;5;129;01min\u001b[39;00m {\u001b[38;5;241m0\u001b[39m, \u001b[38;5;241m1\u001b[39m, \u001b[38;5;241m2\u001b[39m}:\n\u001b[0;32m    304\u001b[0m     \u001b[38;5;28;01mraise\u001b[39;00m \u001b[38;5;167;01mValueError\u001b[39;00m(\n\u001b[0;32m    305\u001b[0m         \u001b[38;5;124mf\u001b[39m\u001b[38;5;124m\"\u001b[39m\u001b[38;5;124mIPython won\u001b[39m\u001b[38;5;124m'\u001b[39m\u001b[38;5;124mt let you open fd=\u001b[39m\u001b[38;5;132;01m{\u001b[39;00mfile\u001b[38;5;132;01m}\u001b[39;00m\u001b[38;5;124m by default \u001b[39m\u001b[38;5;124m\"\u001b[39m\n\u001b[0;32m    306\u001b[0m         \u001b[38;5;124m\"\u001b[39m\u001b[38;5;124mas it is likely to crash IPython. If you know what you are doing, \u001b[39m\u001b[38;5;124m\"\u001b[39m\n\u001b[0;32m    307\u001b[0m         \u001b[38;5;124m\"\u001b[39m\u001b[38;5;124myou can use builtins\u001b[39m\u001b[38;5;124m'\u001b[39m\u001b[38;5;124m open.\u001b[39m\u001b[38;5;124m\"\u001b[39m\n\u001b[0;32m    308\u001b[0m     )\n\u001b[1;32m--> 310\u001b[0m \u001b[38;5;28;01mreturn\u001b[39;00m \u001b[43mio_open\u001b[49m\u001b[43m(\u001b[49m\u001b[43mfile\u001b[49m\u001b[43m,\u001b[49m\u001b[43m \u001b[49m\u001b[38;5;241;43m*\u001b[39;49m\u001b[43margs\u001b[49m\u001b[43m,\u001b[49m\u001b[43m \u001b[49m\u001b[38;5;241;43m*\u001b[39;49m\u001b[38;5;241;43m*\u001b[39;49m\u001b[43mkwargs\u001b[49m\u001b[43m)\u001b[49m\n",
      "\u001b[1;31mFileNotFoundError\u001b[0m: [Errno 2] No such file or directory: 'test.txt'"
     ]
    }
   ],
   "source": [
    "def LZW_compress(filename):\n",
    "    \"\"\"Compress a file using the LZW algorithm and save the compressed file.\"\"\"\n",
    "\n",
    "    # Open the file for reading.\n",
    "    print(f\"Reading from: {filename}\")\n",
    "    with open(filename, 'r') as file:\n",
    "        uncompressed_data = file.read()\n",
    "\n",
    "    # Initialize the dictionary with ASCII values for single characters.\n",
    "    dict_size = 256\n",
    "    dictionary = {chr(i): i for i in range(dict_size)}\n",
    "\n",
    "    # Initialize an empty string to represent the current sequence.\n",
    "    current_sequence = \"\"\n",
    "\n",
    "    # Initialize an empty list to store the compressed output.\n",
    "    compressed_output = []\n",
    "\n",
    "    # Iterate through each character in the uncompressed data.\n",
    "    for character in uncompressed_data:\n",
    "        # Append the current character to the current sequence.\n",
    "        extended_sequence = current_sequence + character\n",
    "\n",
    "        # Check if the extended sequence is already in the dictionary.\n",
    "        if extended_sequence in dictionary:\n",
    "            # If it is, update the current sequence to the extended sequence.\n",
    "            current_sequence = extended_sequence\n",
    "        else:\n",
    "            # If it's not, add the code for the current sequence to the compressed output.\n",
    "            compressed_output.append(dictionary[current_sequence])\n",
    "\n",
    "            # Add the extended sequence to the dictionary.\n",
    "            dictionary[extended_sequence] = dict_size\n",
    "            dict_size += 1\n",
    "\n",
    "            # Reset the current sequence to the current character.\n",
    "            current_sequence = character\n",
    "\n",
    "    # Add the code for the last sequence to the compressed output.\n",
    "    if current_sequence:\n",
    "        compressed_output.append(dictionary[current_sequence])\n",
    "\n",
    "    # Write the compressed output to a new file with the \".lzw\" extension.\n",
    "    compressed_filename = filename + \".lzw\"\n",
    "    with open(compressed_filename, 'wb') as compressed_file:\n",
    "        for code in compressed_output:\n",
    "            compressed_file.write(bytes([code]))\n",
    "\n",
    "    print(f\"File compressed and saved as: {compressed_filename}\")\n",
    "\n",
    "# Call the function with the filename as argument.\n",
    "LZW_compress(filename)"
   ]
  },
  {
   "cell_type": "code",
   "execution_count": 6,
   "id": "9c1c9ee8",
   "metadata": {},
   "outputs": [
    {
     "name": "stdout",
     "output_type": "stream",
     "text": [
      "bible2.txt.lzw\n",
      "bible2.txt.2\n"
     ]
    }
   ],
   "source": [
    "# you'll expand the file named filename.lzw, and save the decompressed as filename+\".2\"\n",
    "# keep the function name\n",
    "def LZW_expand(fname):\n",
    "    print(fname)\n",
    "    print(fname[:-4]+\".2\")\n",
    "    # your code here\n",
    "\n",
    "# keep this line\n",
    "LZW_expand(filename +\".lzw\")"
   ]
  },
  {
   "cell_type": "code",
   "execution_count": 4,
   "id": "17fa652f",
   "metadata": {},
   "outputs": [
    {
     "name": "stdout",
     "output_type": "stream",
     "text": [
      "bible2.txt\n",
      "bible2.txt.lzw2\n"
     ]
    }
   ],
   "source": [
    "# keep the function name\n",
    "def LZW_modified_compress(fname):\n",
    "    print(fname)\n",
    "    print(fname+\".lzw2\")\n",
    "    # your code here\n",
    "\n",
    "# keep this line\n",
    "LZW_modified_compress(filename)"
   ]
  },
  {
   "cell_type": "code",
   "execution_count": 9,
   "id": "ccc7088d",
   "metadata": {},
   "outputs": [
    {
     "name": "stdout",
     "output_type": "stream",
     "text": [
      "bible2.txt.lzw2\n",
      "bible2.txt.2M\n"
     ]
    }
   ],
   "source": [
    "# keep the function name\n",
    "def LZW_modified_expand(fname):\n",
    "    print(fname)\n",
    "    print(fname[:-5]+\".2M\")\n",
    "    # your code here\n",
    "\n",
    "# keep this line\n",
    "LZW_modified_expand(filename+\".lzw2\")"
   ]
  }
 ],
 "metadata": {
  "kernelspec": {
   "display_name": "Python 3 (ipykernel)",
   "language": "python",
   "name": "python3"
  },
  "language_info": {
   "codemirror_mode": {
    "name": "ipython",
    "version": 3
   },
   "file_extension": ".py",
   "mimetype": "text/x-python",
   "name": "python",
   "nbconvert_exporter": "python",
   "pygments_lexer": "ipython3",
   "version": "3.11.8"
  }
 },
 "nbformat": 4,
 "nbformat_minor": 5
}
